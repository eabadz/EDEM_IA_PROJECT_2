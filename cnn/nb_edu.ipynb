{
 "cells": [
  {
   "cell_type": "markdown",
   "metadata": {},
   "source": [
    "# IA PROJECT 2: LOAN APPROVAL"
   ]
  },
  {
   "cell_type": "markdown",
   "metadata": {},
   "source": [
    "## Loan Dataset Features\n",
    "\n",
    "| Variable                         | Description                                                                                 | Data Type     |\n",
    "|----------------------------------|---------------------------------------------------------------------------------------------|---------------|\n",
    "| `person_age`                     | Person's age                                                                                | Float         |\n",
    "| `person_gender`                  | Person's gender                                                                             | Categorical   |\n",
    "| `person_education`              | Highest education level                                                                     | Categorical   |\n",
    "| `person_income`                  | Annual income                                                                              | Float         |\n",
    "| `person_emp_exp`                 | Years of work experience                                                                   | Integer       |\n",
    "| `person_home_ownership`          | Home ownership status (e.g., rent, own, mortgage)                                          | Categorical   |\n",
    "| `loan_amnt`                      | Requested loan amount                                                                      | Float         |\n",
    "| `loan_intent`                    | Loan purpose                                                                               | Categorical   |\n",
    "| `loan_int_rate`                  | Loan interest rate                                                                         | Float         |\n",
    "| `loan_percent_income`            | Loan amount as a percentage of annual income                                               | Float         |\n",
    "| `cb_person_cred_hist_length`     | Length of credit history in years                                                          | Float         |\n",
    "| `credit_score`                   | Person's credit score (The higher the score, the lower the assumed risk of default)        | Integer       |\n",
    "| `previous_loan_defaults_on_file` | Indicator of previous loan defaults                                                        | Categorical   |\n",
    "| `loan_status` (label)           | Loan approval status: 1 = approved; 0 = rejected                                            | Integer       |"
   ]
  },
  {
   "cell_type": "markdown",
   "metadata": {},
   "source": [
    "For this dataset, we can address both a regression problem—predicting the `credit_score` —and a classification problem using the `loan_status` feature to determine whether the loan will be approved or not.\n"
   ]
  },
  {
   "cell_type": "code",
   "execution_count": 1,
   "metadata": {},
   "outputs": [],
   "source": [
    "# Import libraries\n",
    "import pandas as pd\n",
    "import numpy as np\n",
    "import seaborn as sns\n",
    "import matplotlib.pyplot as plt"
   ]
  },
  {
   "cell_type": "code",
   "execution_count": 2,
   "metadata": {},
   "outputs": [
    {
     "data": {
      "text/html": [
       "<div>\n",
       "<style scoped>\n",
       "    .dataframe tbody tr th:only-of-type {\n",
       "        vertical-align: middle;\n",
       "    }\n",
       "\n",
       "    .dataframe tbody tr th {\n",
       "        vertical-align: top;\n",
       "    }\n",
       "\n",
       "    .dataframe thead th {\n",
       "        text-align: right;\n",
       "    }\n",
       "</style>\n",
       "<table border=\"1\" class=\"dataframe\">\n",
       "  <thead>\n",
       "    <tr style=\"text-align: right;\">\n",
       "      <th></th>\n",
       "      <th>person_age</th>\n",
       "      <th>person_gender</th>\n",
       "      <th>person_education</th>\n",
       "      <th>person_income</th>\n",
       "      <th>person_emp_exp</th>\n",
       "      <th>person_home_ownership</th>\n",
       "      <th>loan_amnt</th>\n",
       "      <th>loan_intent</th>\n",
       "      <th>loan_int_rate</th>\n",
       "      <th>loan_percent_income</th>\n",
       "      <th>cb_person_cred_hist_length</th>\n",
       "      <th>credit_score</th>\n",
       "      <th>previous_loan_defaults_on_file</th>\n",
       "      <th>loan_status</th>\n",
       "    </tr>\n",
       "  </thead>\n",
       "  <tbody>\n",
       "    <tr>\n",
       "      <th>0</th>\n",
       "      <td>22.0</td>\n",
       "      <td>female</td>\n",
       "      <td>Master</td>\n",
       "      <td>71948.0</td>\n",
       "      <td>0</td>\n",
       "      <td>RENT</td>\n",
       "      <td>35000.0</td>\n",
       "      <td>PERSONAL</td>\n",
       "      <td>16.02</td>\n",
       "      <td>0.49</td>\n",
       "      <td>3.0</td>\n",
       "      <td>561</td>\n",
       "      <td>No</td>\n",
       "      <td>1</td>\n",
       "    </tr>\n",
       "    <tr>\n",
       "      <th>1</th>\n",
       "      <td>21.0</td>\n",
       "      <td>female</td>\n",
       "      <td>High School</td>\n",
       "      <td>12282.0</td>\n",
       "      <td>0</td>\n",
       "      <td>OWN</td>\n",
       "      <td>1000.0</td>\n",
       "      <td>EDUCATION</td>\n",
       "      <td>11.14</td>\n",
       "      <td>0.08</td>\n",
       "      <td>2.0</td>\n",
       "      <td>504</td>\n",
       "      <td>Yes</td>\n",
       "      <td>0</td>\n",
       "    </tr>\n",
       "    <tr>\n",
       "      <th>2</th>\n",
       "      <td>25.0</td>\n",
       "      <td>female</td>\n",
       "      <td>High School</td>\n",
       "      <td>12438.0</td>\n",
       "      <td>3</td>\n",
       "      <td>MORTGAGE</td>\n",
       "      <td>5500.0</td>\n",
       "      <td>MEDICAL</td>\n",
       "      <td>12.87</td>\n",
       "      <td>0.44</td>\n",
       "      <td>3.0</td>\n",
       "      <td>635</td>\n",
       "      <td>No</td>\n",
       "      <td>1</td>\n",
       "    </tr>\n",
       "    <tr>\n",
       "      <th>3</th>\n",
       "      <td>23.0</td>\n",
       "      <td>female</td>\n",
       "      <td>Bachelor</td>\n",
       "      <td>79753.0</td>\n",
       "      <td>0</td>\n",
       "      <td>RENT</td>\n",
       "      <td>35000.0</td>\n",
       "      <td>MEDICAL</td>\n",
       "      <td>15.23</td>\n",
       "      <td>0.44</td>\n",
       "      <td>2.0</td>\n",
       "      <td>675</td>\n",
       "      <td>No</td>\n",
       "      <td>1</td>\n",
       "    </tr>\n",
       "    <tr>\n",
       "      <th>4</th>\n",
       "      <td>24.0</td>\n",
       "      <td>male</td>\n",
       "      <td>Master</td>\n",
       "      <td>66135.0</td>\n",
       "      <td>1</td>\n",
       "      <td>RENT</td>\n",
       "      <td>35000.0</td>\n",
       "      <td>MEDICAL</td>\n",
       "      <td>14.27</td>\n",
       "      <td>0.53</td>\n",
       "      <td>4.0</td>\n",
       "      <td>586</td>\n",
       "      <td>No</td>\n",
       "      <td>1</td>\n",
       "    </tr>\n",
       "  </tbody>\n",
       "</table>\n",
       "</div>"
      ],
      "text/plain": [
       "   person_age person_gender person_education  person_income  person_emp_exp  \\\n",
       "0        22.0        female           Master        71948.0               0   \n",
       "1        21.0        female      High School        12282.0               0   \n",
       "2        25.0        female      High School        12438.0               3   \n",
       "3        23.0        female         Bachelor        79753.0               0   \n",
       "4        24.0          male           Master        66135.0               1   \n",
       "\n",
       "  person_home_ownership  loan_amnt loan_intent  loan_int_rate  \\\n",
       "0                  RENT    35000.0    PERSONAL          16.02   \n",
       "1                   OWN     1000.0   EDUCATION          11.14   \n",
       "2              MORTGAGE     5500.0     MEDICAL          12.87   \n",
       "3                  RENT    35000.0     MEDICAL          15.23   \n",
       "4                  RENT    35000.0     MEDICAL          14.27   \n",
       "\n",
       "   loan_percent_income  cb_person_cred_hist_length  credit_score  \\\n",
       "0                 0.49                         3.0           561   \n",
       "1                 0.08                         2.0           504   \n",
       "2                 0.44                         3.0           635   \n",
       "3                 0.44                         2.0           675   \n",
       "4                 0.53                         4.0           586   \n",
       "\n",
       "  previous_loan_defaults_on_file  loan_status  \n",
       "0                             No            1  \n",
       "1                            Yes            0  \n",
       "2                             No            1  \n",
       "3                             No            1  \n",
       "4                             No            1  "
      ]
     },
     "execution_count": 2,
     "metadata": {},
     "output_type": "execute_result"
    }
   ],
   "source": [
    "# Load Dataset\n",
    "df = pd.read_csv('dataset.csv')\n",
    "df.head()\n"
   ]
  },
  {
   "cell_type": "code",
   "execution_count": null,
   "metadata": {},
   "outputs": [],
   "source": [
    "df.info()"
   ]
  },
  {
   "cell_type": "markdown",
   "metadata": {},
   "source": [
    "No nulls in the dataset"
   ]
  },
  {
   "cell_type": "code",
   "execution_count": null,
   "metadata": {},
   "outputs": [],
   "source": [
    "df.describe()"
   ]
  },
  {
   "cell_type": "code",
   "execution_count": null,
   "metadata": {},
   "outputs": [],
   "source": [
    "df['loan_status'].value_counts()"
   ]
  },
  {
   "cell_type": "code",
   "execution_count": 3,
   "metadata": {},
   "outputs": [
    {
     "data": {
      "text/html": [
       "<div>\n",
       "<style scoped>\n",
       "    .dataframe tbody tr th:only-of-type {\n",
       "        vertical-align: middle;\n",
       "    }\n",
       "\n",
       "    .dataframe tbody tr th {\n",
       "        vertical-align: top;\n",
       "    }\n",
       "\n",
       "    .dataframe thead th {\n",
       "        text-align: right;\n",
       "    }\n",
       "</style>\n",
       "<table border=\"1\" class=\"dataframe\">\n",
       "  <thead>\n",
       "    <tr style=\"text-align: right;\">\n",
       "      <th></th>\n",
       "      <th>person_age</th>\n",
       "      <th>person_gender</th>\n",
       "      <th>person_education</th>\n",
       "      <th>person_income</th>\n",
       "      <th>person_emp_exp</th>\n",
       "      <th>person_home_ownership</th>\n",
       "      <th>loan_amnt</th>\n",
       "      <th>loan_intent</th>\n",
       "      <th>loan_int_rate</th>\n",
       "      <th>loan_percent_income</th>\n",
       "      <th>cb_person_cred_hist_length</th>\n",
       "      <th>credit_score</th>\n",
       "      <th>previous_loan_defaults_on_file</th>\n",
       "      <th>loan_status</th>\n",
       "    </tr>\n",
       "  </thead>\n",
       "  <tbody>\n",
       "    <tr>\n",
       "      <th>18295</th>\n",
       "      <td>33.0</td>\n",
       "      <td>female</td>\n",
       "      <td>Master</td>\n",
       "      <td>96759.0</td>\n",
       "      <td>9</td>\n",
       "      <td>RENT</td>\n",
       "      <td>21600.0</td>\n",
       "      <td>EDUCATION</td>\n",
       "      <td>18.64</td>\n",
       "      <td>0.22</td>\n",
       "      <td>10.0</td>\n",
       "      <td>640</td>\n",
       "      <td>No</td>\n",
       "      <td>1</td>\n",
       "    </tr>\n",
       "    <tr>\n",
       "      <th>13528</th>\n",
       "      <td>24.0</td>\n",
       "      <td>male</td>\n",
       "      <td>High School</td>\n",
       "      <td>65717.0</td>\n",
       "      <td>0</td>\n",
       "      <td>RENT</td>\n",
       "      <td>12500.0</td>\n",
       "      <td>VENTURE</td>\n",
       "      <td>14.50</td>\n",
       "      <td>0.19</td>\n",
       "      <td>4.0</td>\n",
       "      <td>613</td>\n",
       "      <td>No</td>\n",
       "      <td>1</td>\n",
       "    </tr>\n",
       "    <tr>\n",
       "      <th>19939</th>\n",
       "      <td>35.0</td>\n",
       "      <td>male</td>\n",
       "      <td>Associate</td>\n",
       "      <td>38010.0</td>\n",
       "      <td>11</td>\n",
       "      <td>MORTGAGE</td>\n",
       "      <td>8875.0</td>\n",
       "      <td>PERSONAL</td>\n",
       "      <td>11.99</td>\n",
       "      <td>0.23</td>\n",
       "      <td>7.0</td>\n",
       "      <td>660</td>\n",
       "      <td>No</td>\n",
       "      <td>1</td>\n",
       "    </tr>\n",
       "    <tr>\n",
       "      <th>25456</th>\n",
       "      <td>29.0</td>\n",
       "      <td>male</td>\n",
       "      <td>High School</td>\n",
       "      <td>75511.0</td>\n",
       "      <td>7</td>\n",
       "      <td>MORTGAGE</td>\n",
       "      <td>3600.0</td>\n",
       "      <td>MEDICAL</td>\n",
       "      <td>17.99</td>\n",
       "      <td>0.05</td>\n",
       "      <td>9.0</td>\n",
       "      <td>648</td>\n",
       "      <td>No</td>\n",
       "      <td>1</td>\n",
       "    </tr>\n",
       "    <tr>\n",
       "      <th>44089</th>\n",
       "      <td>22.0</td>\n",
       "      <td>male</td>\n",
       "      <td>Associate</td>\n",
       "      <td>15307.0</td>\n",
       "      <td>0</td>\n",
       "      <td>RENT</td>\n",
       "      <td>4146.0</td>\n",
       "      <td>MEDICAL</td>\n",
       "      <td>13.57</td>\n",
       "      <td>0.27</td>\n",
       "      <td>4.0</td>\n",
       "      <td>661</td>\n",
       "      <td>No</td>\n",
       "      <td>1</td>\n",
       "    </tr>\n",
       "    <tr>\n",
       "      <th>7446</th>\n",
       "      <td>22.0</td>\n",
       "      <td>male</td>\n",
       "      <td>Bachelor</td>\n",
       "      <td>34173.0</td>\n",
       "      <td>0</td>\n",
       "      <td>RENT</td>\n",
       "      <td>6700.0</td>\n",
       "      <td>VENTURE</td>\n",
       "      <td>15.31</td>\n",
       "      <td>0.20</td>\n",
       "      <td>3.0</td>\n",
       "      <td>696</td>\n",
       "      <td>No</td>\n",
       "      <td>1</td>\n",
       "    </tr>\n",
       "    <tr>\n",
       "      <th>3700</th>\n",
       "      <td>21.0</td>\n",
       "      <td>male</td>\n",
       "      <td>Associate</td>\n",
       "      <td>24064.0</td>\n",
       "      <td>0</td>\n",
       "      <td>RENT</td>\n",
       "      <td>4000.0</td>\n",
       "      <td>EDUCATION</td>\n",
       "      <td>14.35</td>\n",
       "      <td>0.17</td>\n",
       "      <td>3.0</td>\n",
       "      <td>633</td>\n",
       "      <td>No</td>\n",
       "      <td>1</td>\n",
       "    </tr>\n",
       "    <tr>\n",
       "      <th>9672</th>\n",
       "      <td>24.0</td>\n",
       "      <td>male</td>\n",
       "      <td>Associate</td>\n",
       "      <td>69465.0</td>\n",
       "      <td>2</td>\n",
       "      <td>MORTGAGE</td>\n",
       "      <td>6500.0</td>\n",
       "      <td>MEDICAL</td>\n",
       "      <td>13.04</td>\n",
       "      <td>0.09</td>\n",
       "      <td>4.0</td>\n",
       "      <td>635</td>\n",
       "      <td>No</td>\n",
       "      <td>1</td>\n",
       "    </tr>\n",
       "    <tr>\n",
       "      <th>973</th>\n",
       "      <td>24.0</td>\n",
       "      <td>female</td>\n",
       "      <td>High School</td>\n",
       "      <td>52304.0</td>\n",
       "      <td>0</td>\n",
       "      <td>RENT</td>\n",
       "      <td>18000.0</td>\n",
       "      <td>DEBTCONSOLIDATION</td>\n",
       "      <td>11.03</td>\n",
       "      <td>0.34</td>\n",
       "      <td>2.0</td>\n",
       "      <td>487</td>\n",
       "      <td>No</td>\n",
       "      <td>1</td>\n",
       "    </tr>\n",
       "    <tr>\n",
       "      <th>42260</th>\n",
       "      <td>32.0</td>\n",
       "      <td>male</td>\n",
       "      <td>Associate</td>\n",
       "      <td>92967.0</td>\n",
       "      <td>10</td>\n",
       "      <td>MORTGAGE</td>\n",
       "      <td>15000.0</td>\n",
       "      <td>DEBTCONSOLIDATION</td>\n",
       "      <td>11.30</td>\n",
       "      <td>0.16</td>\n",
       "      <td>6.0</td>\n",
       "      <td>601</td>\n",
       "      <td>No</td>\n",
       "      <td>1</td>\n",
       "    </tr>\n",
       "  </tbody>\n",
       "</table>\n",
       "</div>"
      ],
      "text/plain": [
       "       person_age person_gender person_education  person_income  \\\n",
       "18295        33.0        female           Master        96759.0   \n",
       "13528        24.0          male      High School        65717.0   \n",
       "19939        35.0          male        Associate        38010.0   \n",
       "25456        29.0          male      High School        75511.0   \n",
       "44089        22.0          male        Associate        15307.0   \n",
       "7446         22.0          male         Bachelor        34173.0   \n",
       "3700         21.0          male        Associate        24064.0   \n",
       "9672         24.0          male        Associate        69465.0   \n",
       "973          24.0        female      High School        52304.0   \n",
       "42260        32.0          male        Associate        92967.0   \n",
       "\n",
       "       person_emp_exp person_home_ownership  loan_amnt        loan_intent  \\\n",
       "18295               9                  RENT    21600.0          EDUCATION   \n",
       "13528               0                  RENT    12500.0            VENTURE   \n",
       "19939              11              MORTGAGE     8875.0           PERSONAL   \n",
       "25456               7              MORTGAGE     3600.0            MEDICAL   \n",
       "44089               0                  RENT     4146.0            MEDICAL   \n",
       "7446                0                  RENT     6700.0            VENTURE   \n",
       "3700                0                  RENT     4000.0          EDUCATION   \n",
       "9672                2              MORTGAGE     6500.0            MEDICAL   \n",
       "973                 0                  RENT    18000.0  DEBTCONSOLIDATION   \n",
       "42260              10              MORTGAGE    15000.0  DEBTCONSOLIDATION   \n",
       "\n",
       "       loan_int_rate  loan_percent_income  cb_person_cred_hist_length  \\\n",
       "18295          18.64                 0.22                        10.0   \n",
       "13528          14.50                 0.19                         4.0   \n",
       "19939          11.99                 0.23                         7.0   \n",
       "25456          17.99                 0.05                         9.0   \n",
       "44089          13.57                 0.27                         4.0   \n",
       "7446           15.31                 0.20                         3.0   \n",
       "3700           14.35                 0.17                         3.0   \n",
       "9672           13.04                 0.09                         4.0   \n",
       "973            11.03                 0.34                         2.0   \n",
       "42260          11.30                 0.16                         6.0   \n",
       "\n",
       "       credit_score previous_loan_defaults_on_file  loan_status  \n",
       "18295           640                             No            1  \n",
       "13528           613                             No            1  \n",
       "19939           660                             No            1  \n",
       "25456           648                             No            1  \n",
       "44089           661                             No            1  \n",
       "7446            696                             No            1  \n",
       "3700            633                             No            1  \n",
       "9672            635                             No            1  \n",
       "973             487                             No            1  \n",
       "42260           601                             No            1  "
      ]
     },
     "execution_count": 3,
     "metadata": {},
     "output_type": "execute_result"
    }
   ],
   "source": [
    "df[df['loan_status'] == 1].sample(10)"
   ]
  },
  {
   "cell_type": "code",
   "execution_count": null,
   "metadata": {},
   "outputs": [],
   "source": [
    "import pandas as pd\n",
    "\n",
    "# Identificar las columnas categóricas\n",
    "categorical_cols = df.select_dtypes(include=['object', 'category']).columns\n",
    "\n",
    "# Mostrar los valores únicos para cada columna categórica\n",
    "for col in categorical_cols:\n",
    "    print(f\"📌 Unique values for '{col}':\")\n",
    "    print(df[col].unique())\n",
    "    print(\"-\" * 50)\n"
   ]
  },
  {
   "cell_type": "code",
   "execution_count": 47,
   "metadata": {},
   "outputs": [
    {
     "name": "stdout",
     "output_type": "stream",
     "text": [
      "📌 Unique values for 'person_gender':\n",
      "['female' 'male']\n",
      "--------------------------------------------------\n",
      "📌 Unique values for 'person_education':\n",
      "['Master' 'High School' 'Bachelor' 'Associate' 'Doctorate']\n",
      "--------------------------------------------------\n",
      "📌 Unique values for 'person_home_ownership':\n",
      "['RENT' 'OWN' 'MORTGAGE' 'OTHER']\n",
      "--------------------------------------------------\n",
      "📌 Unique values for 'loan_intent':\n",
      "['PERSONAL' 'EDUCATION' 'MEDICAL' 'VENTURE' 'HOMEIMPROVEMENT'\n",
      " 'DEBTCONSOLIDATION']\n",
      "--------------------------------------------------\n",
      "📌 Unique values for 'previous_loan_defaults_on_file':\n",
      "['No' 'Yes']\n",
      "--------------------------------------------------\n"
     ]
    }
   ],
   "source": [
    "import pandas as pd\n",
    "\n",
    "# Identificar las columnas categóricas\n",
    "categorical_cols = df.select_dtypes(include=['object', 'category']).columns\n",
    "\n",
    "# Mostrar los valores únicos para cada columna categórica\n",
    "for col in categorical_cols:\n",
    "    print(f\"📌 Unique values for '{col}':\")\n",
    "    print(df[col].unique())\n",
    "    print(\"-\" * 50)\n"
   ]
  },
  {
   "cell_type": "markdown",
   "metadata": {},
   "source": [
    "It can be observed that the label in our dataset is imbalanced."
   ]
  },
  {
   "cell_type": "code",
   "execution_count": null,
   "metadata": {},
   "outputs": [],
   "source": [
    "# Select numeric columns, excluding 'loan_status'\n",
    "numeric_cols = [col for col in df.select_dtypes(include=['number']).columns if col != 'loan_status']\n",
    "\n",
    "# 1. Boxplots for numeric variables (excluding 'loan_status')\n",
    "for col in numeric_cols:\n",
    "    plt.figure(figsize=(4, 4))\n",
    "    sns.boxplot(y=df[col])\n",
    "    plt.title(f\"Boxplot of {col}\")\n",
    "    plt.show()\n",
    "\n",
    "# 2. Bar charts for categorical variables\n",
    "categorical_cols = df.select_dtypes(include=['object', 'category']).columns\n",
    "for col in categorical_cols:\n",
    "    plt.figure(figsize=(4, 4))\n",
    "    df[col].value_counts().plot(kind='bar')\n",
    "    plt.title(f\"Frequency of {col}\")\n",
    "    plt.ylabel(\"Count\")\n",
    "    plt.show()"
   ]
  },
  {
   "cell_type": "markdown",
   "metadata": {},
   "source": [
    "## BASIC ANN MODEL WITHOUT CLEANING DATASET (ONLY NaNs)"
   ]
  },
  {
   "cell_type": "markdown",
   "metadata": {},
   "source": [
    "### Pre-process the data"
   ]
  },
  {
   "cell_type": "code",
   "execution_count": 4,
   "metadata": {},
   "outputs": [],
   "source": [
    "# Import libraries\n",
    "import torch\n",
    "import torch.nn as nn\n",
    "from torch.utils.data import DataLoader, TensorDataset\n",
    "from torchsummary import summary\n",
    "\n",
    "import numpy as np\n",
    "import matplotlib.pyplot as plt"
   ]
  },
  {
   "cell_type": "code",
   "execution_count": 5,
   "metadata": {},
   "outputs": [
    {
     "data": {
      "text/plain": [
       "<torch._C.Generator at 0x1340e190190>"
      ]
     },
     "execution_count": 5,
     "metadata": {},
     "output_type": "execute_result"
    }
   ],
   "source": [
    "# set random seed for reproducibility\n",
    "torch.manual_seed(42)"
   ]
  },
  {
   "cell_type": "code",
   "execution_count": 62,
   "metadata": {},
   "outputs": [
    {
     "name": "stdout",
     "output_type": "stream",
     "text": [
      "✅ LabelEncoders guardados correctamente.\n",
      "✅ StandardScaler guardado correctamente.\n"
     ]
    }
   ],
   "source": [
    "from sklearn.model_selection import train_test_split\n",
    "from sklearn.preprocessing import LabelEncoder, StandardScaler\n",
    "import pickle\n",
    "\n",
    "# 'loan_status' is the target column\n",
    "y = df[\"loan_status\"]\n",
    "X = df.drop([\"loan_status\"], axis=1)\n",
    "\n",
    "# Encode categorical columns \n",
    "categorical_cols = X.select_dtypes(include=[\"object\", \"category\"]).columns\n",
    "\n",
    "label_encoders = {}  # 📌 Guardaremos los LabelEncoders\n",
    "for col in categorical_cols:\n",
    "    le = LabelEncoder()\n",
    "    X[col] = le.fit_transform(X[col].astype(str))\n",
    "    label_encoders[col] = le  # Guardamos el encoder para usarlo en inferencia\n",
    "\n",
    "# Guardar LabelEncoders para la inferencia 📌\n",
    "with open(\"label_encoders.pkl\", \"wb\") as f:\n",
    "    pickle.dump(label_encoders, f)\n",
    "\n",
    "print(\"✅ LabelEncoders guardados correctamente.\")\n",
    "\n",
    "# Convert to numpy arrays\n",
    "X = X.values\n",
    "y = y.values\n",
    "\n",
    "\n",
    "# Split the data into train, val, and test\n",
    "X_train_val, X_test, y_train_val, y_test = train_test_split(X, y, test_size=0.2, random_state=42)\n",
    "\n",
    "X_train, X_val, y_train, y_val = train_test_split(X_train_val, y_train_val, test_size=0.1, random_state=42)\n",
    "\n",
    "# 📌 Aplicamos StandardScaler SOLO en el entrenamiento y guardamos el modelo para inferencia\n",
    "scaler = StandardScaler()\n",
    "X_train = scaler.fit_transform(X_train)\n",
    "X_val = scaler.transform(X_val)\n",
    "X_test = scaler.transform(X_test)\n",
    "\n",
    "# Guardar StandardScaler para la inferencia 📌\n",
    "with open(\"scaler.pkl\", \"wb\") as f:\n",
    "    pickle.dump(scaler, f)\n",
    "\n",
    "print(\"✅ StandardScaler guardado correctamente.\")\n",
    "\n",
    "# Convert numpy arrays to PyTorch tensors\n",
    "X_train_t = torch.tensor(X_train, dtype=torch.float32)\n",
    "y_train_t = torch.tensor(y_train, dtype=torch.float32)\n",
    "\n",
    "X_val_t = torch.tensor(X_val, dtype=torch.float32)\n",
    "y_val_t = torch.tensor(y_val, dtype=torch.float32)\n",
    "\n",
    "X_test_t = torch.tensor(X_test, dtype=torch.float32)\n",
    "y_test_t = torch.tensor(y_test, dtype=torch.float32)\n",
    "\n",
    "# Create TensorDatasets and DataLoaders\n",
    "train_dataset = TensorDataset(X_train_t, y_train_t)\n",
    "val_dataset = TensorDataset(X_val_t, y_val_t)\n",
    "test_dataset = TensorDataset(X_test_t, y_test_t)\n",
    "\n",
    "batch_size = 32\n",
    "\n",
    "train_loader = DataLoader(train_dataset, batch_size=batch_size, shuffle=True)\n",
    "val_loader = DataLoader(val_dataset, batch_size=batch_size, shuffle=False)\n",
    "test_loader = DataLoader(test_dataset, batch_size=batch_size, shuffle=False)"
   ]
  },
  {
   "cell_type": "markdown",
   "metadata": {},
   "source": [
    "### Design the network"
   ]
  },
  {
   "cell_type": "code",
   "execution_count": 7,
   "metadata": {},
   "outputs": [],
   "source": [
    "class LoanApprovalANN(nn.Module):\n",
    "    def __init__(self, input_size):\n",
    "        super(LoanApprovalANN, self).__init__()\n",
    "        \n",
    "        self.model = nn.Sequential(\n",
    "            nn.Linear(input_size, 128),  # First hidden layer (input -> 64)\n",
    "            nn.ReLU(),\n",
    "            nn.Linear(128, 64),  # Second hidden layer (64 -> 32)\n",
    "            nn.ReLU(),\n",
    "            nn.Linear(64,32),  # Output layer (32 -> 1)\n",
    "            nn.ReLU(),\n",
    "            nn.Linear(32,1),  # Output layer (32 -> 1)\n",
    "            nn.Sigmoid()  # Activation for binary classification\n",
    "        )\n",
    "\n",
    "    def forward(self, x):\n",
    "        return self.model(x)\n"
   ]
  },
  {
   "cell_type": "markdown",
   "metadata": {},
   "source": [
    "### Initialize the model"
   ]
  },
  {
   "cell_type": "code",
   "execution_count": 8,
   "metadata": {},
   "outputs": [],
   "source": [
    "input_size = X_train_t.shape[1]  # Number of features\n",
    "model = LoanApprovalANN(input_size)\n",
    "\n"
   ]
  },
  {
   "cell_type": "code",
   "execution_count": 9,
   "metadata": {},
   "outputs": [
    {
     "name": "stdout",
     "output_type": "stream",
     "text": [
      "13\n"
     ]
    },
    {
     "data": {
      "text/plain": [
       "13"
      ]
     },
     "execution_count": 9,
     "metadata": {},
     "output_type": "execute_result"
    }
   ],
   "source": [
    "print(input_size)\n",
    "train_loader.dataset.tensors[0].shape[1]"
   ]
  },
  {
   "cell_type": "code",
   "execution_count": 10,
   "metadata": {},
   "outputs": [
    {
     "name": "stdout",
     "output_type": "stream",
     "text": [
      "----------------------------------------------------------------\n",
      "        Layer (type)               Output Shape         Param #\n",
      "================================================================\n",
      "            Linear-1                  [-1, 128]           1,792\n",
      "              ReLU-2                  [-1, 128]               0\n",
      "            Linear-3                   [-1, 64]           8,256\n",
      "              ReLU-4                   [-1, 64]               0\n",
      "            Linear-5                   [-1, 32]           2,080\n",
      "              ReLU-6                   [-1, 32]               0\n",
      "            Linear-7                    [-1, 1]              33\n",
      "           Sigmoid-8                    [-1, 1]               0\n",
      "================================================================\n",
      "Total params: 12,161\n",
      "Trainable params: 12,161\n",
      "Non-trainable params: 0\n",
      "----------------------------------------------------------------\n",
      "Input size (MB): 0.00\n",
      "Forward/backward pass size (MB): 0.00\n",
      "Params size (MB): 0.05\n",
      "Estimated Total Size (MB): 0.05\n",
      "----------------------------------------------------------------\n"
     ]
    }
   ],
   "source": [
    "# Model summary\n",
    "summary(model, (input_size,))"
   ]
  },
  {
   "cell_type": "code",
   "execution_count": 11,
   "metadata": {},
   "outputs": [
    {
     "data": {
      "text/plain": [
       "LoanApprovalANN(\n",
       "  (model): Sequential(\n",
       "    (0): Linear(in_features=13, out_features=128, bias=True)\n",
       "    (1): ReLU()\n",
       "    (2): Linear(in_features=128, out_features=64, bias=True)\n",
       "    (3): ReLU()\n",
       "    (4): Linear(in_features=64, out_features=32, bias=True)\n",
       "    (5): ReLU()\n",
       "    (6): Linear(in_features=32, out_features=1, bias=True)\n",
       "    (7): Sigmoid()\n",
       "  )\n",
       ")"
      ]
     },
     "execution_count": 11,
     "metadata": {},
     "output_type": "execute_result"
    }
   ],
   "source": [
    "# Move model to GPU if available\n",
    "device = torch.device(\"cuda\" if torch.cuda.is_available() else \"cpu\")\n",
    "model.to(device)"
   ]
  },
  {
   "cell_type": "code",
   "execution_count": 12,
   "metadata": {},
   "outputs": [],
   "source": [
    "import torch.optim as optim\n",
    "\n",
    "# Define loss function\n",
    "criterion = nn.BCELoss()  # Binary Cross Entropy Loss\n",
    "\n",
    "# Define optimizer (Adam)\n",
    "optimizer = optim.Adam(model.parameters(), lr=0.01)\n"
   ]
  },
  {
   "cell_type": "markdown",
   "metadata": {},
   "source": [
    "### Train the network"
   ]
  },
  {
   "cell_type": "code",
   "execution_count": 13,
   "metadata": {},
   "outputs": [
    {
     "name": "stdout",
     "output_type": "stream",
     "text": [
      "Epoch 1/25 | Train loss: 0.217 | Train accuracy: 0.903 | Valid loss: 0.213 | Valid accuracy: 0.900\n",
      "Epoch 2/25 | Train loss: 0.201 | Train accuracy: 0.908 | Valid loss: 0.190 | Valid accuracy: 0.910\n",
      "Epoch 3/25 | Train loss: 0.195 | Train accuracy: 0.911 | Valid loss: 0.190 | Valid accuracy: 0.909\n",
      "Epoch 4/25 | Train loss: 0.196 | Train accuracy: 0.910 | Valid loss: 0.195 | Valid accuracy: 0.913\n",
      "Epoch 5/25 | Train loss: 0.189 | Train accuracy: 0.913 | Valid loss: 0.186 | Valid accuracy: 0.914\n",
      "Epoch 6/25 | Train loss: 0.189 | Train accuracy: 0.914 | Valid loss: 0.185 | Valid accuracy: 0.915\n",
      "Epoch 7/25 | Train loss: 0.188 | Train accuracy: 0.914 | Valid loss: 0.186 | Valid accuracy: 0.914\n",
      "Epoch 8/25 | Train loss: 0.193 | Train accuracy: 0.912 | Valid loss: 0.183 | Valid accuracy: 0.914\n",
      "Epoch 9/25 | Train loss: 0.202 | Train accuracy: 0.908 | Valid loss: 0.202 | Valid accuracy: 0.907\n",
      "Epoch 10/25 | Train loss: 0.188 | Train accuracy: 0.915 | Valid loss: 0.193 | Valid accuracy: 0.908\n",
      "Epoch 11/25 | Train loss: 0.183 | Train accuracy: 0.915 | Valid loss: 0.185 | Valid accuracy: 0.915\n",
      "Epoch 12/25 | Train loss: 0.183 | Train accuracy: 0.917 | Valid loss: 0.181 | Valid accuracy: 0.915\n",
      "Epoch 13/25 | Train loss: 0.186 | Train accuracy: 0.916 | Valid loss: 0.188 | Valid accuracy: 0.915\n",
      "Epoch 14/25 | Train loss: 0.179 | Train accuracy: 0.917 | Valid loss: 0.179 | Valid accuracy: 0.916\n",
      "Epoch 15/25 | Train loss: 0.194 | Train accuracy: 0.916 | Valid loss: 0.177 | Valid accuracy: 0.920\n",
      "Epoch 16/25 | Train loss: 0.177 | Train accuracy: 0.919 | Valid loss: 0.183 | Valid accuracy: 0.912\n",
      "Epoch 17/25 | Train loss: 0.179 | Train accuracy: 0.918 | Valid loss: 0.185 | Valid accuracy: 0.913\n",
      "Epoch 18/25 | Train loss: 0.175 | Train accuracy: 0.921 | Valid loss: 0.183 | Valid accuracy: 0.913\n",
      "Epoch 19/25 | Train loss: 0.177 | Train accuracy: 0.918 | Valid loss: 0.184 | Valid accuracy: 0.915\n",
      "Epoch 20/25 | Train loss: 0.173 | Train accuracy: 0.922 | Valid loss: 0.179 | Valid accuracy: 0.916\n",
      "Epoch 21/25 | Train loss: 0.173 | Train accuracy: 0.921 | Valid loss: 0.184 | Valid accuracy: 0.915\n",
      "Epoch 22/25 | Train loss: 0.175 | Train accuracy: 0.923 | Valid loss: 0.175 | Valid accuracy: 0.923\n",
      "Epoch 23/25 | Train loss: 0.173 | Train accuracy: 0.921 | Valid loss: 0.182 | Valid accuracy: 0.915\n",
      "Epoch 24/25 | Train loss: 0.170 | Train accuracy: 0.924 | Valid loss: 0.179 | Valid accuracy: 0.918\n",
      "Epoch 25/25 | Train loss: 0.167 | Train accuracy: 0.924 | Valid loss: 0.178 | Valid accuracy: 0.921\n"
     ]
    }
   ],
   "source": [
    "import torch\n",
    "\n",
    "# Define device (GPU if available)\n",
    "device = torch.device(\"cuda\" if torch.cuda.is_available() else \"cpu\")\n",
    "model.to(device)\n",
    "\n",
    "# Store training history\n",
    "train_loss_history = []\n",
    "valid_loss_history = []\n",
    "train_accuracy_history = []\n",
    "valid_accuracy_history = []\n",
    "\n",
    "# Number of epochs\n",
    "num_epochs = 25\n",
    "\n",
    "def get_accuracy(preds, labels):\n",
    "    \"\"\"Calculate accuracy given model predictions and actual labels.\"\"\"\n",
    "    preds = (preds >= 0.5).float()  # Convert to binary values (0 or 1)\n",
    "    return (preds == labels).sum().item() / labels.size(0)\n",
    "\n",
    "for epoch in range(num_epochs):\n",
    "    # Training phase\n",
    "    model.train()\n",
    "    for i, (X_batch, y_batch) in enumerate(train_loader):\n",
    "\n",
    "        # Move data to device\n",
    "        X_batch, y_batch = X_batch.to(device), y_batch.to(device)\n",
    "\n",
    "        # Clear gradients\n",
    "        optimizer.zero_grad()\n",
    "\n",
    "        # Forward pass\n",
    "        y_pred = model(X_batch).squeeze()\n",
    "\n",
    "        # Compute loss\n",
    "        loss = criterion(y_pred, y_batch)\n",
    "\n",
    "        # Backward pass\n",
    "        loss.backward()\n",
    "\n",
    "        # Update weights\n",
    "        optimizer.step()\n",
    "\n",
    "    # Calculate accuracy & loss for training and validation\n",
    "    train_loss = 0\n",
    "    valid_loss = 0\n",
    "    train_accuracy = 0\n",
    "    valid_accuracy = 0\n",
    "\n",
    "    model.eval()  # Set model to evaluation mode\n",
    "    with torch.no_grad():\n",
    "        for X_batch, y_batch in train_loader:\n",
    "            X_batch, y_batch = X_batch.to(device), y_batch.to(device)\n",
    "            y_pred = model(X_batch).squeeze()\n",
    "            train_loss += criterion(y_pred, y_batch).item()\n",
    "            train_accuracy += get_accuracy(y_pred, y_batch)\n",
    "\n",
    "        train_loss_history.append(train_loss / len(train_loader))\n",
    "        train_accuracy_history.append(train_accuracy / len(train_loader))\n",
    "\n",
    "        for X_batch, y_batch in val_loader:\n",
    "            X_batch, y_batch = X_batch.to(device), y_batch.to(device)\n",
    "            y_pred = model(X_batch).squeeze()\n",
    "            valid_loss += criterion(y_pred, y_batch).item()\n",
    "            valid_accuracy += get_accuracy(y_pred, y_batch)\n",
    "\n",
    "        valid_loss_history.append(valid_loss / len(val_loader))\n",
    "        valid_accuracy_history.append(valid_accuracy / len(val_loader))\n",
    "\n",
    "    # Print epoch summary\n",
    "    print(f\"Epoch {epoch+1}/{num_epochs} | \"\n",
    "          f\"Train loss: {train_loss/len(train_loader):.3f} | \"\n",
    "          f\"Train accuracy: {train_accuracy/len(train_loader):.3f} | \"\n",
    "          f\"Valid loss: {valid_loss/len(val_loader):.3f} | \"\n",
    "          f\"Valid accuracy: {valid_accuracy/len(val_loader):.3f}\")\n",
    "\n"
   ]
  },
  {
   "cell_type": "code",
   "execution_count": 14,
   "metadata": {},
   "outputs": [],
   "source": [
    "# Save the model\n",
    "torch.save(model.state_dict(), \"model.pth\")\n"
   ]
  },
  {
   "cell_type": "code",
   "execution_count": 15,
   "metadata": {},
   "outputs": [
    {
     "data": {
      "image/png": "[encoded data removed]",
      "text/plain": [
       "<Figure size 640x480 with 1 Axes>"
      ]
     },
     "metadata": {},
     "output_type": "display_data"
    }
   ],
   "source": [
    "# Plot training and validation accuracy\n",
    "plt.plot(train_accuracy_history)\n",
    "plt.plot(valid_accuracy_history)\n",
    "plt.title('Model accuracy')\n",
    "plt.ylabel('Accuracy')\n",
    "plt.xlabel('Epoch')\n",
    "plt.legend(['Train', 'Val'], loc='upper left')\n",
    "plt.show()"
   ]
  },
  {
   "cell_type": "code",
   "execution_count": 16,
   "metadata": {},
   "outputs": [
    {
     "data": {
      "image/png": "[encoded data removed]",
      "text/plain": [
       "<Figure size 640x480 with 1 Axes>"
      ]
     },
     "metadata": {},
     "output_type": "display_data"
    }
   ],
   "source": [
    "# Plot training and validation accuracy\n",
    "plt.plot(train_loss_history)\n",
    "plt.plot(valid_loss_history)\n",
    "plt.title('Model loss')\n",
    "plt.ylabel('Loss')\n",
    "plt.xlabel('Epoch')\n",
    "plt.legend(['Train', 'Val'], loc='upper left')\n",
    "plt.show()"
   ]
  },
  {
   "cell_type": "markdown",
   "metadata": {},
   "source": [
    "### Evaluate the model"
   ]
  },
  {
   "cell_type": "code",
   "execution_count": 17,
   "metadata": {},
   "outputs": [
    {
     "name": "stdout",
     "output_type": "stream",
     "text": [
      "Test Loss: 0.1855\n",
      "Test Accuracy: 0.9189\n",
      "Test Precision: 0.8579\n",
      "Test Recall: 0.7632\n",
      "Test F1 Score: 0.8078\n"
     ]
    }
   ],
   "source": [
    "from sklearn.metrics import accuracy_score, precision_score, recall_score, f1_score\n",
    "\n",
    "# Set model to evaluation mode\n",
    "model.eval()\n",
    "\n",
    "# Initialize variables for metrics\n",
    "test_loss = 0.0\n",
    "all_preds = []\n",
    "all_labels = []\n",
    "\n",
    "# No need to track gradients during evaluation\n",
    "with torch.no_grad():\n",
    "    for X_batch, y_batch in test_loader:\n",
    "        X_batch, y_batch = X_batch.to(device), y_batch.to(device)\n",
    "\n",
    "        # Forward pass\n",
    "        y_pred = model(X_batch).squeeze()\n",
    "\n",
    "        # Compute loss\n",
    "        loss = criterion(y_pred, y_batch)\n",
    "        test_loss += loss.item()\n",
    "\n",
    "        # Convert predictions to binary (0 or 1)\n",
    "        predicted = (y_pred >= 0.5).float()\n",
    "\n",
    "        # Store predictions and labels for metrics calculation\n",
    "        all_preds.extend(predicted.cpu().numpy())\n",
    "        all_labels.extend(y_batch.cpu().numpy())\n",
    "\n",
    "# Compute average test loss\n",
    "avg_test_loss = test_loss / len(test_loader)\n",
    "\n",
    "# Compute classification metrics\n",
    "test_accuracy = accuracy_score(all_labels, all_preds)\n",
    "test_precision = precision_score(all_labels, all_preds)\n",
    "test_recall = recall_score(all_labels, all_preds)\n",
    "test_f1 = f1_score(all_labels, all_preds)\n",
    "\n",
    "# Print results\n",
    "print(f\"Test Loss: {avg_test_loss:.4f}\")\n",
    "print(f\"Test Accuracy: {test_accuracy:.4f}\")\n",
    "print(f\"Test Precision: {test_precision:.4f}\")\n",
    "print(f\"Test Recall: {test_recall:.4f}\")\n",
    "print(f\"Test F1 Score: {test_f1:.4f}\")\n"
   ]
  },
  {
   "cell_type": "code",
   "execution_count": 18,
   "metadata": {},
   "outputs": [
    {
     "data": {
      "image/png": "[encoded data removed]",
      "text/plain": [
       "<Figure size 400x400 with 2 Axes>"
      ]
     },
     "metadata": {},
     "output_type": "display_data"
    },
    {
     "name": "stdout",
     "output_type": "stream",
     "text": [
      "Accuracy for label 0 (Rejected): 96.37%\n",
      "Accuracy for label 1 (Approved): 76.32%\n"
     ]
    }
   ],
   "source": [
    "from sklearn.metrics import confusion_matrix, ConfusionMatrixDisplay\n",
    "\n",
    "# Suponiendo que ya tienes tus predicciones y etiquetas verdaderas\n",
    "# y_true = etiquetas reales (0 o 1)\n",
    "# y_pred = predicciones del modelo (0 o 1)\n",
    "\n",
    "# Calcula la matriz de confusión\n",
    "cm = confusion_matrix(all_labels, all_preds)\n",
    "\n",
    "# Visualiza la matriz de confusión\n",
    "fig, ax = plt.subplots(figsize=(4, 4))\n",
    "ConfusionMatrixDisplay(confusion_matrix=cm, display_labels=[\"Rejected (0)\", \"Approved (1)\"]).plot(ax=ax)\n",
    "plt.title(\"Confusion Matrix\")\n",
    "plt.show()\n",
    "\n",
    "# Extraer valores de la matriz de confusión\n",
    "TN = cm[0, 0]  # True Negatives (0 correctamente predichos)\n",
    "FP = cm[0, 1]  # False Positives (0 predichos como 1)\n",
    "FN = cm[1, 0]  # False Negatives (1 predichos como 0)\n",
    "TP = cm[1, 1]  # True Positives (1 correctamente predichos)\n",
    "\n",
    "# Calcular el porcentaje de acierto para cada etiqueta\n",
    "accuracy_0 = TN / (TN + FP) * 100  # Precisión para la etiqueta 0 (rechazado)\n",
    "accuracy_1 = TP / (TP + FN) * 100  # Precisión para la etiqueta 1 (aprobado)\n",
    "\n",
    "# Mostrar los resultados\n",
    "print(f\"Accuracy for label 0 (Rejected): {accuracy_0:.2f}%\")\n",
    "print(f\"Accuracy for label 1 (Approved): {accuracy_1:.2f}%\")"
   ]
  },
  {
   "cell_type": "code",
   "execution_count": 61,
   "metadata": {},
   "outputs": [
    {
     "name": "stdout",
     "output_type": "stream",
     "text": [
      "✅ Loan Approved!\n"
     ]
    },
    {
     "name": "stderr",
     "output_type": "stream",
     "text": [
      "C:\\Users\\eduab\\AppData\\Local\\Temp\\ipykernel_80020\\123638449.py:9: FutureWarning: You are using `torch.load` with `weights_only=False` (the current default value), which uses the default pickle module implicitly. It is possible to construct malicious pickle data which will execute arbitrary code during unpickling (See https://github.com/pytorch/pytorch/blob/main/SECURITY.md#untrusted-models for more details). In a future release, the default value for `weights_only` will be flipped to `True`. This limits the functions that could be executed during unpickling. Arbitrary objects will no longer be allowed to be loaded via this mode unless they are explicitly allowlisted by the user via `torch.serialization.add_safe_globals`. We recommend you start setting `weights_only=True` for any use case where you don't have full control of the loaded file. Please open an issue on GitHub for any issues related to this experimental feature.\n",
      "  model.load_state_dict(torch.load('model.pth', map_location=torch.device('cpu')))  # Cargar en CPU si no usas GPU\n",
      "c:\\Users\\eduab\\OneDrive\\Documentos\\GitHub\\EDEM_IA_PROJECT_2\\.venv\\Lib\\site-packages\\sklearn\\utils\\validation.py:2732: UserWarning: X has feature names, but StandardScaler was fitted without feature names\n",
      "  warnings.warn(\n"
     ]
    }
   ],
   "source": [
    "import pickle\n",
    "import torch\n",
    "import numpy as np\n",
    "import pandas as pd\n",
    "\n",
    "# Cargar el modelo\n",
    "input_size = 13  # Ajusta este número según la cantidad de features en tu modelo\n",
    "model = LoanApprovalANN(input_size)\n",
    "model.load_state_dict(torch.load('model.pth', map_location=torch.device('cpu')))  # Cargar en CPU si no usas GPU\n",
    "model.eval()\n",
    "\n",
    "# Simulación de los datos ingresados por un usuario\n",
    "sample_data = {\n",
    "    \"person_age\": 70,  \n",
    "    \"person_gender\": \"male\",\n",
    "    \"person_education\": \"Bachelor\",\n",
    "    \"person_income\": 1000,  \n",
    "    \"person_emp_exp\": 1,  \n",
    "    \"person_home_ownership\": \"MORTGAGE\",\n",
    "    \"loan_amnt\": 150000,  \n",
    "    \"loan_intent\": \"VENTURE\",\n",
    "    \"loan_int_rate\": 3.0,  \n",
    "    \"loan_percent_income\": 150000 / 24000,  \n",
    "    \"cb_person_cred_hist_length\": 5,  \n",
    "    \"credit_score\": 250,  \n",
    "    \"previous_loan_defaults_on_file\": \"No\"\n",
    "}\n",
    "\n",
    "# Convertir el diccionario en un DataFrame\n",
    "sample_df = pd.DataFrame([sample_data])\n",
    "\n",
    "# 📌 1️⃣ Cargar los LabelEncoders entrenados\n",
    "\n",
    "with open(\"label_encoders.pkl\", \"rb\") as f:\n",
    "    label_encoders = pickle.load(f)\n",
    "\n",
    "# Aplicar Label Encoding a las variables categóricas\n",
    "categorical_cols = [\"person_gender\", \"person_education\", \"person_home_ownership\", \"loan_intent\", \"previous_loan_defaults_on_file\"]\n",
    "# print('-'*50)\n",
    "# print(sample_df[col])\n",
    "# print('-'*50)\n",
    "# print(categorical_cols)\n",
    "# print('-'*50)\n",
    "for col in categorical_cols:\n",
    "    if sample_df[col].values[0] not in label_encoders[col].classes_:\n",
    "        print(f\"⚠️ Advertencia: El valor '{sample_df[col].values[0]}' en {col} no estaba en los datos de entrenamiento.\")\n",
    "    \n",
    "    sample_df[col] = label_encoders[col].transform(sample_df[col])\n",
    "\n",
    "\n",
    "\n",
    "# 📌 2️⃣ Cargar el StandardScaler entrenado y aplicarlo a las variables numéricas\n",
    "with open(\"scaler.pkl\", \"rb\") as f:\n",
    "    scaler = pickle.load(f)\n",
    "\n",
    "# numerical_cols = [\"person_age\", \"person_income\", \"person_emp_exp\", \"loan_amnt\", \n",
    "#                   \"loan_int_rate\", \"loan_percent_income\", \"cb_person_cred_hist_length\", \"credit_score\", \"person_gender\", \"person_education\", \"person_home_ownership\", \"loan_intent\", \"previous_loan_defaults_on_file\"]\n",
    "\n",
    "sample_df = scaler.transform(sample_df)\n",
    "\n",
    "\n",
    "# 📌 3️⃣ Convertir los datos en un numpy array antes de pasarlo a PyTorch tensor\n",
    "# input_array = sample_df.to_numpy(dtype=np.float32)  # Convertir DataFrame a NumPy array\n",
    "input_array = np.array(sample_df, dtype=np.float32) \n",
    "# Convertir a un tensor de PyTorch\n",
    "input_tensor = torch.tensor(input_array)\n",
    "\n",
    "# 📌 4️⃣ Hacer la predicción\n",
    "with torch.no_grad():\n",
    "    output = model(input_tensor)\n",
    "    prediction = (output >= 0.5).float().item()  # Convertir a 0 o 1\n",
    "\n",
    "# 📌 5️⃣ Mostrar el resultado\n",
    "if prediction == 1:\n",
    "    print(\"✅ Loan Approved!\")\n",
    "else:\n",
    "    print(\"❌ Loan Rejected!\")\n"
   ]
  },
  {
   "cell_type": "markdown",
   "metadata": {},
   "source": [
    "# Exploratory Data Analysis"
   ]
  },
  {
   "cell_type": "code",
   "execution_count": null,
   "metadata": {},
   "outputs": [],
   "source": [
    "# Correlation between features and label\n",
    "\n",
    "from sklearn.preprocessing import LabelEncoder\n",
    "\n",
    "# Convert categorical columns to numeric using LabelEncoder\n",
    "categorical_cols = df.select_dtypes(include=['object', 'category']).columns\n",
    "le = LabelEncoder()\n",
    "\n",
    "for col in categorical_cols:\n",
    "    df[col] = le.fit_transform(df[col])\n",
    "\n",
    "# Compute correlation matrix again\n",
    "correlation_matrix = df.corr()\n",
    "\n",
    "# Extract correlation of each feature with 'loan_status'\n",
    "correlation_with_target = correlation_matrix[\"loan_status\"].drop(\"loan_status\")\n",
    "\n",
    "# Sort by absolute correlation value\n",
    "correlation_with_target = correlation_with_target.abs().sort_values(ascending=False)\n",
    "\n",
    "# Plot correlation as a bar chart\n",
    "plt.figure(figsize=(8, 5))\n",
    "sns.barplot(x=correlation_with_target.values, y=correlation_with_target.index, palette=\"Blues\")\n",
    "plt.xlabel(\"Correlation with Loan Status\")\n",
    "plt.ylabel(\"Features\")\n",
    "plt.title(\"Feature Correlation with Loan Status\")\n",
    "plt.grid(True)\n",
    "plt.show()\n"
   ]
  },
  {
   "cell_type": "code",
   "execution_count": null,
   "metadata": {},
   "outputs": [],
   "source": [
    "# BarChar comparing categorical features with label\n",
    "\n",
    "# Identify categorical columns\n",
    "categorical_cols = df.select_dtypes(include=['object', 'category']).columns\n",
    "\n",
    "# Plot bar charts for each categorical variable grouped by 'loan_status'\n",
    "for col in categorical_cols:\n",
    "    plt.figure(figsize=(6, 4))\n",
    "    sns.countplot(x=df[col], hue=df[\"loan_status\"], palette=\"Blues\")\n",
    "    plt.xlabel(col)\n",
    "    plt.ylabel(\"Count\")\n",
    "    plt.title(f\"Distribution of {col} by Loan Status\")\n",
    "    plt.xticks(rotation=45)\n",
    "    plt.legend(title=\"Loan Status\", labels=[\"Rejected (0)\", \"Approved (1)\"])\n",
    "    plt.grid(True, axis='y', linestyle='--', alpha=0.7)\n",
    "    plt.show()\n"
   ]
  },
  {
   "cell_type": "code",
   "execution_count": null,
   "metadata": {},
   "outputs": [],
   "source": [
    "df.info()"
   ]
  },
  {
   "cell_type": "code",
   "execution_count": null,
   "metadata": {},
   "outputs": [],
   "source": [
    "# Identify categorical columns\n",
    "categorical_cols = df.select_dtypes(include=['object', 'category']).columns\n",
    "\n",
    "# Create a dictionary to store proportions\n",
    "category_proportions = {}\n",
    "\n",
    "# Calculate proportions for each categorical variable\n",
    "for col in categorical_cols:\n",
    "    proportion_df = df.groupby([col, \"loan_status\"]).size().unstack(fill_value=0)  # Ensure all categories are included\n",
    "    proportion_df = proportion_df.div(proportion_df.sum(axis=1), axis=0)  # Normalize to get proportions\n",
    "    category_proportions[col] = proportion_df\n",
    "\n",
    "# Display the proportions\n",
    "for col, prop_df in category_proportions.items():\n",
    "    print(f\"Proportions of {col} by Loan Status:\")\n",
    "    print(prop_df)\n",
    "    print(\"\\n\" + \"-\"*50 + \"\\n\")\n"
   ]
  },
  {
   "cell_type": "markdown",
   "metadata": {},
   "source": [
    "Conclusion:\n",
    "* Gender, person_education, loan_intent aren´t important\n",
    "* If you have a mortage or your own house is not probable to be given a loan\n",
    "* If you have previous loan you wont get a loan"
   ]
  },
  {
   "cell_type": "code",
   "execution_count": null,
   "metadata": {},
   "outputs": [],
   "source": [
    "# Identify numerical columns (excluding 'loan_status')\n",
    "numerical_cols = df.select_dtypes(include=['number']).columns.drop(\"loan_status\")\n",
    "\n",
    "# Create boxplots for each numerical variable grouped by 'loan_status'\n",
    "for col in numerical_cols:\n",
    "    plt.figure(figsize=(6, 4))\n",
    "    sns.boxplot(x=df[\"loan_status\"], y=df[col], palette=\"Blues\")\n",
    "    plt.xlabel(\"Loan Status\")\n",
    "    plt.ylabel(col)\n",
    "    plt.title(f\"Boxplot of {col} by Loan Status\")\n",
    "    plt.grid(True, linestyle='--', alpha=0.7)\n",
    "    plt.show()"
   ]
  },
  {
   "cell_type": "markdown",
   "metadata": {},
   "source": [
    "Conclusion:\n",
    "* +80 age wont get a loan\n",
    "* +1,2 income wont get a loan\n",
    "* +55 years_experience wont get a loan"
   ]
  },
  {
   "cell_type": "code",
   "execution_count": null,
   "metadata": {},
   "outputs": [],
   "source": [
    "# Drop columns that aren´t relevant\n",
    "df.drop(columns=[\"person_gender\", \"person_education\", \"loan_intent\"], inplace=True)"
   ]
  },
  {
   "cell_type": "code",
   "execution_count": null,
   "metadata": {},
   "outputs": [],
   "source": [
    "# Apply one-hot encoding in 'person_home_ownership'\n",
    "df = pd.get_dummies(df, columns=[\"person_home_ownership\"], drop_first=True)"
   ]
  },
  {
   "cell_type": "code",
   "execution_count": null,
   "metadata": {},
   "outputs": [],
   "source": [
    "# Change  Yes/No \"previous_loan_defaults_on_file\" columm to 1/0\n",
    "\n",
    "# Ensure the column is numeric\n",
    "df[\"previous_loan_defaults_on_file\"] = df[\"previous_loan_defaults_on_file\"].astype(str)\n",
    "\n",
    "# Convert any non-zero or non-null value to 1\n",
    "df[\"had_previous_loans\"] = df[\"previous_loan_defaults_on_file\"].apply(lambda x: 1 if x != \"0\" and x.lower() != \"nan\" else 0)\n",
    "\n",
    "# Drop the original column\n",
    "df.drop(columns=[\"previous_loan_defaults_on_file\"], inplace=True)\n"
   ]
  },
  {
   "cell_type": "code",
   "execution_count": null,
   "metadata": {},
   "outputs": [],
   "source": [
    "# Create binary features (Not sure if it will improve the model accuracy and precision)\n",
    "df[\"age_80_plus\"] = (df[\"person_age\"] > 80).astype(int)\n",
    "df[\"high_income\"] = (df[\"person_income\"] > 1.2e6).astype(int)\n",
    "df[\"exp_55_plus\"] = (df[\"person_emp_exp\"] > 55).astype(int)\n"
   ]
  },
  {
   "cell_type": "code",
   "execution_count": null,
   "metadata": {},
   "outputs": [],
   "source": [
    "df.sample(5)"
   ]
  },
  {
   "cell_type": "code",
   "execution_count": null,
   "metadata": {},
   "outputs": [],
   "source": [
    "df.info()"
   ]
  },
  {
   "cell_type": "markdown",
   "metadata": {},
   "source": [
    "# ANN MODEL WITH EDA"
   ]
  },
  {
   "cell_type": "markdown",
   "metadata": {},
   "source": [
    "### Pre-process data"
   ]
  },
  {
   "cell_type": "code",
   "execution_count": null,
   "metadata": {},
   "outputs": [],
   "source": [
    "from sklearn.model_selection import train_test_split\n",
    "from sklearn.preprocessing import LabelEncoder\n",
    "\n",
    "# 'loan_status' is the target column\n",
    "y = df[\"loan_status\"]\n",
    "X = df.drop([\"loan_status\"], axis=1)\n",
    "\n",
    "# Encode categorical columns \n",
    "# categorical_cols = X.select_dtypes(include=[\"object\", \"category\"]).columns\n",
    "# for col in categorical_cols:\n",
    "#     le = LabelEncoder()\n",
    "#     X[col] = le.fit_transform(X[col].astype(str))\n",
    "\n",
    "\n",
    "# Convert to numpy arrays\n",
    "X = X.values\n",
    "y = y.values\n",
    "\n",
    "# Split the data into train, val, and test\n",
    "\n",
    "# First split: test = 20%, train_val = 80%\n",
    "X_train_val, X_test, y_train_val, y_test = train_test_split(\n",
    "    X, y,\n",
    "    test_size=0.2,\n",
    "    random_state=42\n",
    ")\n",
    "\n",
    "# Second split: of the remaining 80%, 10% goes to val => 90% train, 10% val\n",
    "# (10% of 80% is 8% total)\n",
    "X_train, X_val, y_train, y_val = train_test_split(\n",
    "    X_train_val, \n",
    "    y_train_val,\n",
    "    test_size=0.1,   # 10% of the remaining 80%\n",
    "    random_state=42\n",
    ")\n",
    "\n",
    "from sklearn.preprocessing import StandardScaler\n",
    "scaler = StandardScaler()\n",
    "X_train = scaler.fit_transform(X_train)\n",
    "X_val = scaler.transform(X_val)\n",
    "X_test = scaler.transform(X_test)\n",
    "\n",
    "# 4. Convert numpy arrays to PyTorch tensors\n",
    "\n",
    "X_train_t = torch.tensor(X_train, dtype=torch.float32)\n",
    "y_train_t = torch.tensor(y_train, dtype=torch.float32)\n",
    "\n",
    "X_val_t = torch.tensor(X_val, dtype=torch.float32)\n",
    "y_val_t = torch.tensor(y_val, dtype=torch.float32)\n",
    "\n",
    "X_test_t = torch.tensor(X_test, dtype=torch.float32)\n",
    "y_test_t = torch.tensor(y_test, dtype=torch.float32)\n",
    "\n",
    "\n",
    "# 5. Create TensorDatasets and DataLoaders\n",
    "\n",
    "train_dataset = TensorDataset(X_train_t, y_train_t)\n",
    "val_dataset   = TensorDataset(X_val_t, y_val_t)\n",
    "test_dataset  = TensorDataset(X_test_t, y_test_t)\n",
    "\n",
    "batch_size = 64\n",
    "\n",
    "train_loader = DataLoader(train_dataset, batch_size=batch_size, shuffle=True)\n",
    "val_loader   = DataLoader(val_dataset, batch_size=batch_size, shuffle=False)\n",
    "test_loader  = DataLoader(test_dataset, batch_size=batch_size, shuffle=False)\n"
   ]
  },
  {
   "cell_type": "markdown",
   "metadata": {},
   "source": [
    "### Design the network"
   ]
  },
  {
   "cell_type": "code",
   "execution_count": null,
   "metadata": {},
   "outputs": [],
   "source": [
    "# class LoanApprovalANN(nn.Module):\n",
    "#     def __init__(self, input_size):\n",
    "#         super(LoanApprovalANN, self).__init__()\n",
    "        \n",
    "#         self.model = nn.Sequential(\n",
    "#             nn.Linear(input_size, 128),  # First hidden layer (input -> 64)\n",
    "#             nn.ReLU(),\n",
    "#             nn.Linear(128, 64),  # Second hidden layer (64 -> 32)\n",
    "#             nn.ReLU(),\n",
    "#             nn.Linear(64,32),  # Output layer (32 -> 1)\n",
    "#             nn.ReLU(),\n",
    "#             nn.Linear(32,1),  # Output layer (32 -> 1)\n",
    "#             nn.Sigmoid()  # Activation for binary classification\n",
    "#         )\n",
    "\n",
    "#     def forward(self, x):\n",
    "#         return self.model(x)\n",
    "import torch\n",
    "import torch.nn as nn\n",
    "\n",
    "class LoanApprovalANN(nn.Module):\n",
    "    def __init__(self, input_size):\n",
    "        super(LoanApprovalANN, self).__init__()\n",
    "        \n",
    "        self.model = nn.Sequential(\n",
    "            nn.Linear(input_size, 256),  # Primera capa oculta (input → 256 neuronas)\n",
    "            nn.BatchNorm1d(256),  # Normalización para estabilizar el entrenamiento\n",
    "            nn.ReLU(),\n",
    "            nn.Dropout(0.2),  # Apaga el 30% de las neuronas en cada forward pass\n",
    "            \n",
    "            nn.Linear(256, 128),  # Segunda capa oculta (256 → 128 neuronas)\n",
    "            nn.BatchNorm1d(128),\n",
    "            nn.ReLU(),\n",
    "            nn.Dropout(0.2),\n",
    "\n",
    "            nn.Linear(128, 64),  # Tercera capa oculta (128 → 64 neuronas)\n",
    "            nn.BatchNorm1d(64),\n",
    "            nn.ReLU(),\n",
    "            nn.Dropout(0.2),\n",
    "\n",
    "            nn.Linear(64, 32),  # Cuarta capa oculta (64 → 32 neuronas)\n",
    "            nn.ReLU(),\n",
    "\n",
    "            nn.Linear(32, 1),  # Capa de salida (32 → 1 neurona)\n",
    "            nn.Sigmoid()  # Activación Sigmoid para clasificación binaria\n",
    "        )\n",
    "\n",
    "    def forward(self, x):\n",
    "        return self.model(x)\n"
   ]
  },
  {
   "cell_type": "markdown",
   "metadata": {},
   "source": [
    "### Initialize the model\n",
    "\n"
   ]
  },
  {
   "cell_type": "code",
   "execution_count": null,
   "metadata": {},
   "outputs": [],
   "source": [
    "input_size = X_train_t.shape[1]  # Number of features\n",
    "model = LoanApprovalANN(input_size)\n"
   ]
  },
  {
   "cell_type": "code",
   "execution_count": null,
   "metadata": {},
   "outputs": [],
   "source": [
    "# Model summary\n",
    "summary(model, (input_size,))"
   ]
  },
  {
   "cell_type": "code",
   "execution_count": null,
   "metadata": {},
   "outputs": [],
   "source": [
    "# Move model to GPU if available\n",
    "device = torch.device(\"cuda\" if torch.cuda.is_available() else \"cpu\")\n",
    "model.to(device)"
   ]
  },
  {
   "cell_type": "code",
   "execution_count": null,
   "metadata": {},
   "outputs": [],
   "source": [
    "import torch.optim as optim\n",
    "\n",
    "# Define loss function\n",
    "criterion = nn.BCELoss()  # Binary Cross Entropy Loss\n",
    "\n",
    "# Define optimizer (Adam)\n",
    "optimizer = optim.Adam(model.parameters(), lr=0.01)"
   ]
  },
  {
   "cell_type": "markdown",
   "metadata": {},
   "source": [
    "### Train the network"
   ]
  },
  {
   "cell_type": "code",
   "execution_count": null,
   "metadata": {},
   "outputs": [],
   "source": [
    "import torch\n",
    "\n",
    "# Define device (GPU if available)\n",
    "device = torch.device(\"cuda\" if torch.cuda.is_available() else \"cpu\")\n",
    "model.to(device)\n",
    "\n",
    "# Store training history\n",
    "train_loss_history = []\n",
    "valid_loss_history = []\n",
    "train_accuracy_history = []\n",
    "valid_accuracy_history = []\n",
    "\n",
    "# Number of epochs\n",
    "num_epochs = 25\n",
    "\n",
    "def get_accuracy(preds, labels):\n",
    "    \"\"\"Calculate accuracy given model predictions and actual labels.\"\"\"\n",
    "    preds = (preds >= 0.5).float()  # Convert to binary values (0 or 1)\n",
    "    return (preds == labels).sum().item() / labels.size(0)\n",
    "\n",
    "for epoch in range(num_epochs):\n",
    "    # Training phase\n",
    "    model.train()\n",
    "    for i, (X_batch, y_batch) in enumerate(train_loader):\n",
    "\n",
    "        # Move data to device\n",
    "        X_batch, y_batch = X_batch.to(device), y_batch.to(device)\n",
    "\n",
    "        # Clear gradients\n",
    "        optimizer.zero_grad()\n",
    "\n",
    "        # Forward pass\n",
    "        y_pred = model(X_batch).squeeze()\n",
    "\n",
    "        # Compute loss\n",
    "        loss = criterion(y_pred, y_batch)\n",
    "\n",
    "        # Backward pass\n",
    "        loss.backward()\n",
    "\n",
    "        # Update weights\n",
    "        optimizer.step()\n",
    "\n",
    "    # Calculate accuracy & loss for training and validation\n",
    "    train_loss = 0\n",
    "    valid_loss = 0\n",
    "    train_accuracy = 0\n",
    "    valid_accuracy = 0\n",
    "\n",
    "    model.eval()  # Set model to evaluation mode\n",
    "    with torch.no_grad():\n",
    "        for X_batch, y_batch in train_loader:\n",
    "            X_batch, y_batch = X_batch.to(device), y_batch.to(device)\n",
    "            y_pred = model(X_batch).squeeze()\n",
    "            train_loss += criterion(y_pred, y_batch).item()\n",
    "            train_accuracy += get_accuracy(y_pred, y_batch)\n",
    "\n",
    "        train_loss_history.append(train_loss / len(train_loader))\n",
    "        train_accuracy_history.append(train_accuracy / len(train_loader))\n",
    "\n",
    "        for X_batch, y_batch in val_loader:\n",
    "            X_batch, y_batch = X_batch.to(device), y_batch.to(device)\n",
    "            y_pred = model(X_batch).squeeze()\n",
    "            valid_loss += criterion(y_pred, y_batch).item()\n",
    "            valid_accuracy += get_accuracy(y_pred, y_batch)\n",
    "\n",
    "        valid_loss_history.append(valid_loss / len(val_loader))\n",
    "        valid_accuracy_history.append(valid_accuracy / len(val_loader))\n",
    "\n",
    "    # Print epoch summary\n",
    "    print(f\"Epoch {epoch+1}/{num_epochs} | \"\n",
    "          f\"Train loss: {train_loss/len(train_loader):.3f} | \"\n",
    "          f\"Train accuracy: {train_accuracy/len(train_loader):.3f} | \"\n",
    "          f\"Valid loss: {valid_loss/len(val_loader):.3f} | \"\n",
    "          f\"Valid accuracy: {valid_accuracy/len(val_loader):.3f}\")"
   ]
  },
  {
   "cell_type": "code",
   "execution_count": null,
   "metadata": {},
   "outputs": [],
   "source": [
    "# Plot training and validation accuracy\n",
    "plt.plot(train_accuracy_history)\n",
    "plt.plot(valid_accuracy_history)\n",
    "plt.title('Model accuracy')\n",
    "plt.ylabel('Accuracy')\n",
    "plt.xlabel('Epoch')\n",
    "plt.legend(['Train', 'Val'], loc='upper left')\n",
    "plt.show()"
   ]
  },
  {
   "cell_type": "code",
   "execution_count": null,
   "metadata": {},
   "outputs": [],
   "source": [
    "# Plot training and validation accuracy\n",
    "plt.plot(train_loss_history)\n",
    "plt.plot(valid_loss_history)\n",
    "plt.title('Model loss')\n",
    "plt.ylabel('Loss')\n",
    "plt.xlabel('Epoch')\n",
    "plt.legend(['Train', 'Val'], loc='upper left')\n",
    "plt.show()"
   ]
  },
  {
   "cell_type": "markdown",
   "metadata": {},
   "source": [
    "### Evaluate the model"
   ]
  },
  {
   "cell_type": "code",
   "execution_count": null,
   "metadata": {},
   "outputs": [],
   "source": [
    "from sklearn.metrics import accuracy_score, precision_score, recall_score, f1_score\n",
    "\n",
    "# Set model to evaluation mode\n",
    "model.eval()\n",
    "\n",
    "# Initialize variables for metrics\n",
    "test_loss = 0.0\n",
    "all_preds = []\n",
    "all_labels = []\n",
    "\n",
    "# No need to track gradients during evaluation\n",
    "with torch.no_grad():\n",
    "    for X_batch, y_batch in test_loader:\n",
    "        X_batch, y_batch = X_batch.to(device), y_batch.to(device)\n",
    "\n",
    "        # Forward pass\n",
    "        y_pred = model(X_batch).squeeze()\n",
    "\n",
    "        # Compute loss\n",
    "        loss = criterion(y_pred, y_batch)\n",
    "        test_loss += loss.item()\n",
    "\n",
    "        # Convert predictions to binary (0 or 1)\n",
    "        predicted = (y_pred >= 0.5).float()\n",
    "\n",
    "        # Store predictions and labels for metrics calculation\n",
    "        all_preds.extend(predicted.cpu().numpy())\n",
    "        all_labels.extend(y_batch.cpu().numpy())\n",
    "\n",
    "# Compute average test loss\n",
    "avg_test_loss = test_loss / len(test_loader)\n",
    "\n",
    "# Compute classification metrics\n",
    "test_accuracy = accuracy_score(all_labels, all_preds)\n",
    "test_precision = precision_score(all_labels, all_preds)\n",
    "test_recall = recall_score(all_labels, all_preds)\n",
    "test_f1 = f1_score(all_labels, all_preds)\n",
    "\n",
    "# Print results\n",
    "print(f\"Test Loss: {avg_test_loss:.4f}\")\n",
    "print(f\"Test Accuracy: {test_accuracy:.4f}\")\n",
    "print(f\"Test Precision: {test_precision:.4f}\")\n",
    "print(f\"Test Recall: {test_recall:.4f}\")\n",
    "print(f\"Test F1 Score: {test_f1:.4f}\")"
   ]
  }
 ],
 "metadata": {
  "kernelspec": {
   "display_name": ".venv",
   "language": "python",
   "name": "python3"
  },
  "language_info": {
   "codemirror_mode": {
    "name": "ipython",
    "version": 3
   },
   "file_extension": ".py",
   "mimetype": "text/x-python",
   "name": "python",
   "nbconvert_exporter": "python",
   "pygments_lexer": "ipython3",
   "version": "3.12.3"
  }
 },
 "nbformat": 4,
 "nbformat_minor": 2
}
